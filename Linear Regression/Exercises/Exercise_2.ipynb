{
  "nbformat": 4,
  "nbformat_minor": 0,
  "metadata": {
    "colab": {
      "provenance": []
    },
    "kernelspec": {
      "name": "python3",
      "display_name": "Python 3"
    },
    "language_info": {
      "name": "python"
    }
  },
  "cells": [
    {
      "cell_type": "code",
      "execution_count": null,
      "metadata": {
        "colab": {
          "base_uri": "https://localhost:8080/"
        },
        "id": "XhoZXIWv8VPQ",
        "outputId": "d5077af7-af4f-4941-f8df-bff7d4520ae5"
      },
      "outputs": [
        {
          "output_type": "stream",
          "name": "stdout",
          "text": [
            "\n",
            "Actual vs Predicted (Test Set):\n",
            "   Actual  Predicted\n",
            "8      64  56.856510\n",
            "1      69  79.105761\n"
          ]
        }
      ],
      "source": [
        "import pandas as pd\n",
        "from sklearn.linear_model import LinearRegression\n",
        "from sklearn.model_selection import train_test_split\n",
        "\n",
        "# Create the DataFrame\n",
        "data = {\n",
        "    'Weight': [79, 69, 73, 95, 82, 55, 69, 71, 64, 69],\n",
        "    'Height': [1.80, 1.68, 1.82, 1.70, 1.87, 1.55, 1.50, 1.78, 1.67, 1.64],\n",
        "    'Age': [35, 39, 25, 60, 27, 18, 89, 42, 16, 52],\n",
        "    'Gender': ['Male', 'Male', 'Male', 'Male', 'Male', 'Female', 'Female', 'Female', 'Female', 'Female']\n",
        "}\n",
        "df = pd.DataFrame(data)\n",
        "\n",
        "# Convert 'Gender' to numerical using one-hot encoding\n",
        "df_encoded = pd.get_dummies(df, columns=['Gender'], drop_first=True)\n",
        "\n",
        "# Define dependent and independent variables\n",
        "X = df_encoded[['Height', 'Age', 'Gender_Male']]\n",
        "y = df_encoded['Weight']\n",
        "\n",
        "# Split data into training and testing sets (optional, but good practice for evaluation)\n",
        "X_train, X_test, y_train, y_test = train_test_split(X, y, test_size=0.2, random_state=42) # 80% train, 20% test\n",
        "\n",
        "# Initialize and train the Linear Regression model\n",
        "model = LinearRegression()\n",
        "model.fit(X_train, y_train)\n",
        "\n",
        "# Make predictions on the test set\n",
        "y_pred = model.predict(X_test)\n",
        "\n",
        "# Also show predictions vs actual for test set\n",
        "predictions_df = pd.DataFrame({'Actual': y_test, 'Predicted': y_pred})\n",
        "print(\"\\nActual vs Predicted (Test Set):\")\n",
        "print(predictions_df)"
      ]
    }
  ]
}